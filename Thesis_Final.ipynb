{
 "cells": [
  {
   "cell_type": "code",
   "execution_count": 1,
   "metadata": {
    "colab": {
     "base_uri": "https://localhost:8080/",
     "height": 122
    },
    "colab_type": "code",
    "id": "htoMceMMVcuf",
    "outputId": "49dbcc4b-ac6e-4a43-81fc-396a15b3b640"
   },
   "outputs": [
    {
     "name": "stdout",
     "output_type": "stream",
     "text": [
      "Collecting sentencepiece\n",
      "\u001b[?25l  Downloading https://files.pythonhosted.org/packages/14/3d/efb655a670b98f62ec32d66954e1109f403db4d937c50d779a75b9763a29/sentencepiece-0.1.83-cp36-cp36m-manylinux1_x86_64.whl (1.0MB)\n",
      "\u001b[K     |████████████████████████████████| 1.0MB 5.0MB/s \n",
      "\u001b[?25hInstalling collected packages: sentencepiece\n",
      "Successfully installed sentencepiece-0.1.83\n"
     ]
    }
   ],
   "source": [
    "#install SentencePice framework\n",
    "!pip install sentencepiece"
   ]
  },
  {
   "cell_type": "code",
   "execution_count": 2,
   "metadata": {
    "colab": {
     "base_uri": "https://localhost:8080/",
     "height": 343
    },
    "colab_type": "code",
    "id": "H0QHfVMMVt5d",
    "outputId": "20406e21-cdfd-493d-a430-4a1aa006b468"
   },
   "outputs": [
    {
     "name": "stdout",
     "output_type": "stream",
     "text": [
      "--2019-09-06 16:15:17--  https://storage.googleapis.com/xlnet/released_models/cased_L-24_H-1024_A-16.zip\n",
      "Resolving storage.googleapis.com (storage.googleapis.com)... 74.125.142.128, 2607:f8b0:400e:c08::80\n",
      "Connecting to storage.googleapis.com (storage.googleapis.com)|74.125.142.128|:443... connected.\n",
      "HTTP request sent, awaiting response... 200 OK\n",
      "Length: 1338042341 (1.2G) [application/zip]\n",
      "Saving to: ‘cased_L-24_H-1024_A-16.zip’\n",
      "\n",
      "cased_L-24_H-1024_A 100%[===================>]   1.25G  92.2MB/s    in 12s     \n",
      "\n",
      "2019-09-06 16:15:29 (104 MB/s) - ‘cased_L-24_H-1024_A-16.zip’ saved [1338042341/1338042341]\n",
      "\n",
      "Archive:  cased_L-24_H-1024_A-16.zip\n",
      "   creating: xlnet_cased_L-24_H-1024_A-16/\n",
      "  inflating: xlnet_cased_L-24_H-1024_A-16/xlnet_model.ckpt.index  \n",
      "  inflating: xlnet_cased_L-24_H-1024_A-16/xlnet_model.ckpt.data-00000-of-00001  \n",
      "  inflating: xlnet_cased_L-24_H-1024_A-16/spiece.model  \n",
      "  inflating: xlnet_cased_L-24_H-1024_A-16/xlnet_model.ckpt.meta  \n",
      "  inflating: xlnet_cased_L-24_H-1024_A-16/xlnet_config.json  \n"
     ]
    }
   ],
   "source": [
    "#Download pretrained model of XLNet\n",
    "! wget https://storage.googleapis.com/xlnet/released_models/cased_L-24_H-1024_A-16.zip\n",
    "! unzip cased_L-24_H-1024_A-16.zip"
   ]
  },
  {
   "cell_type": "code",
   "execution_count": 0,
   "metadata": {
    "colab": {},
    "colab_type": "code",
    "id": "BlqtLfccVzDi"
   },
   "outputs": [],
   "source": [
    "#run preprocessing file to convert raw input into the list of feature object\n",
    "preprocessing_command = \"python preprocessing.py\"\n",
    "! {preprocessing_command}"
   ]
  },
  {
   "cell_type": "code",
   "execution_count": 0,
   "metadata": {
    "colab": {},
    "colab_type": "code",
    "id": "YHnnrHA8WEUr"
   },
   "outputs": [],
   "source": [
    "#train the model \n",
    "train_command = \"python train.py\"\n",
    "! {train_command}"
   ]
  },
  {
   "cell_type": "code",
   "execution_count": 0,
   "metadata": {
    "colab": {},
    "colab_type": "code",
    "id": "2TPZgPzgWKdA"
   },
   "outputs": [],
   "source": [
    "#predict and evaluate the model\n",
    "predict_command = \"python predict.py\"\n",
    "! {predict_command}"
   ]
  }
 ],
 "metadata": {
  "colab": {
   "name": "Thesis-Final.ipynb",
   "provenance": [],
   "version": "0.3.2"
  },
  "kernelspec": {
   "display_name": "Python 3",
   "language": "python",
   "name": "python3"
  },
  "language_info": {
   "codemirror_mode": {
    "name": "ipython",
    "version": 3
   },
   "file_extension": ".py",
   "mimetype": "text/x-python",
   "name": "python",
   "nbconvert_exporter": "python",
   "pygments_lexer": "ipython3",
   "version": "3.6.8"
  }
 },
 "nbformat": 4,
 "nbformat_minor": 1
}
